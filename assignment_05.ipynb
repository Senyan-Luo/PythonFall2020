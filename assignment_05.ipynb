{
 "cells": [
  {
   "cell_type": "markdown",
   "metadata": {},
   "source": [
    "### Getting into Class\n",
    "This exercise is to get you familiar with the idea of creating your own class object.\n",
    "\n",
    "This will create a generic Student class that we will be able to extend with other class objects.\n",
    "\n",
    "Your Class should be able to create an Student object instance with the following properties\n",
    "\n",
    "- Construct with default attributes for School Name, Student First Name, and Last Name\n",
    "- Methods to update any of these above attributes\n",
    "- An overloaded method for the str() function to return the Student attributes in a string formatted sentence \"{FirstName} {LastName} is a student of {SchoolName}\"\n",
    "\n",
    "You are free to implement this class however you like. The testing code is included below. Don't be afraid to check the [documentation]('https://docs.python.org/3/tutorial/classes.html') or any other resources you would like! Internet searching is a big part of promgramming"
   ]
  },
  {
   "cell_type": "code",
   "execution_count": 1,
   "metadata": {},
   "outputs": [
    {
     "name": "stdout",
     "output_type": "stream",
     "text": [
      "School: Parsons School of Design\n",
      "First Name:SENYAN\n",
      "Last Name:LUO\n",
      "**************\n"
     ]
    }
   ],
   "source": [
    "# code here\n",
    "class Student:\n",
    "    def __init__(self, school='<assign school name>', firstName='<assign first name>', lastName='<assign last name>'):\n",
    "        self.updateInfo(school, firstName, lastName)\n",
    "    def updateInfo(self, school, firstName, lastName):\n",
    "        self.school = school\n",
    "        self.firstName= firstName\n",
    "        self.lastName = lastName\n",
    "    def __str__(self):\n",
    "        return 'School: %s\\nFirst Name:%s\\nLast Name:%s\\n**************' % (self.school,self.firstName, self.lastName)\n",
    "        \n",
    "# create a default instance of the Student class\n",
    "senyan = Student()\n",
    "# udpate info by passing new parameters into updateInfo function\n",
    "senyan.updateInfo('Parsons School of Design', 'SENYAN', 'LUO')\n",
    "print(senyan)"
   ]
  },
  {
   "cell_type": "markdown",
   "metadata": {},
   "source": [
    "### Challenges\n",
    "Before looking at any of these specific challenges, look back at the class you've created. Are there features of Students that you think are missing? Go ahead and just try and add them yourself! These can be things like registered classes, graduation year, enrollment status, etc. Anything you can think of! Class flexibility is designed so that your approach reflects your own personal understanding of the problem. But for a more structured challenge read on...\n",
    "\n",
    "The challenges here extend the functionality of the base class. These are in topics of class attributes, magic methods, inheritance, and iteration. Don't be afraid to check python documentation on these problems to look for implementation help! No one codes alone!\n",
    "\n",
    "Class is where your own ideas get to come through as a programmer and designer. So there is no one right way to any of these. Give it your best shot and also be creative!\n",
    "\n",
    "__Challenge #1__ add an class wide attribute student count and give every student an ID\n",
    "Create a Class wide count of students that tracks how many students have been created. Then, usi that attriute to give every student a unique ID.\n",
    "\n",
    "__Challenge #2__ add a behavioral method to the students\n",
    "What kind of behavior should a student have? What do they do? Do they study? Research? Maybe a student can declare a major or focus of study?\n",
    "\n",
    "Implement the method and the appropriate attributes that allows a student to print a statement about themselves. These can be as simple as \"say my own name\" or something like printing the student's favorite faculty member\n",
    "\n",
    "__Challenge #3__ create a subclass called Graduate Student\n",
    "The Graduate student should inherit from the base Student class. How do you think Graduate Students should be differentiated from the base Student? Add your own attribute or methods that you think they should have.\n",
    "\n",
    "__Challenge #4__ Create a School Class that has Students as attributes\n",
    "This is a separate class that is called School that can enroll Students, and graduate students. Maybe it can track its own endowment. This would be a large class that is meant to process these students in some way."
   ]
  },
  {
   "cell_type": "code",
   "execution_count": 2,
   "metadata": {
    "scrolled": true
   },
   "outputs": [
    {
     "name": "stdout",
     "output_type": "stream",
     "text": [
      "School: Fordham\n",
      "First Name:Lilly\n",
      "Last Name:G\n",
      "ID:1\n",
      "**************\n",
      "School: Parsons School of Design\n",
      "First Name:Senyan\n",
      "Last Name:Luo\n",
      "ID:2\n",
      "**************\n",
      "School: NYU\n",
      "First Name:billy\n",
      "Last Name:Zhang\n",
      "ID:3\n",
      "**************\n",
      "School: NYU\n",
      "First Name:bill\n",
      "Last Name:Zeng\n",
      "ID:3\n",
      "**************\n"
     ]
    }
   ],
   "source": [
    "# challenge 1\n",
    "class Student:\n",
    "    studentCount = 1\n",
    "    def __init__(self, school='<assign school name>', firstName='<assign first name>', lastName='<assign last name>'):\n",
    "        self.ID = Student.studentCount \n",
    "        Student.studentCount += 1\n",
    "        self.updateInfo(school, firstName, lastName)\n",
    "    def updateInfo(self, school, firstName, lastName):\n",
    "        self.school = school\n",
    "        self.firstName= firstName\n",
    "        self.lastName = lastName\n",
    "    def __str__(self):\n",
    "        return 'School: %s\\nFirst Name:%s\\nLast Name:%s\\nID:%s\\n**************' % (self.school,self.firstName, self.lastName, self.ID)\n",
    "    \n",
    "lilly = Student('Fordham','Lilly','G')\n",
    "print(lilly)\n",
    "\n",
    "senyan = Student('Parsons School of Design','Senyan','Luo')\n",
    "print(senyan)\n",
    "\n",
    "bill = Student('NYU','billy','Zhang')\n",
    "print(bill)\n",
    "bill.updateInfo('NYU','bill','Zeng')\n",
    "print(bill)"
   ]
  },
  {
   "cell_type": "code",
   "execution_count": 3,
   "metadata": {},
   "outputs": [
    {
     "name": "stdout",
     "output_type": "stream",
     "text": [
      "School: NYU\n",
      "First Name:Shawn\n",
      "Last Name:Liu\n",
      "ID:1\n",
      "**************\n"
     ]
    },
    {
     "data": {
      "text/plain": [
       "'I am studying computer science at NYU!'"
      ]
     },
     "execution_count": 3,
     "metadata": {},
     "output_type": "execute_result"
    }
   ],
   "source": [
    "# challenge 2\n",
    "class Student:\n",
    "    studentCount = 1\n",
    "    def __init__(self, school='<assign school name>', firstName='<assign first name>', lastName='<assign last name>'):\n",
    "        self.ID = Student.studentCount \n",
    "        Student.studentCount += 1\n",
    "        self.updateInfo(school, firstName, lastName)\n",
    "    def updateInfo(self, school, firstName, lastName):\n",
    "        self.school = school\n",
    "        self.firstName= firstName\n",
    "        self.lastName = lastName\n",
    "    def __str__(self):\n",
    "        return 'School: %s\\nFirst Name:%s\\nLast Name:%s\\nID:%s\\n**************' % (self.school,self.firstName, self.lastName, self.ID)\n",
    "    \n",
    "    def declareMajor(self, major):\n",
    "        self.major = major\n",
    "        return 'I am studying ' + self.major + ' at ' + self.school +'!'\n",
    "    \n",
    "shawn = Student('NYU','Shawn','Liu')\n",
    "print(shawn)\n",
    "shawn.declareMajor('computer science')"
   ]
  },
  {
   "cell_type": "code",
   "execution_count": 4,
   "metadata": {},
   "outputs": [
    {
     "name": "stdout",
     "output_type": "stream",
     "text": [
      "School: nyu\n",
      "First Name:James\n",
      "Last Name:Bond\n",
      "ID:1\n",
      "**************\n"
     ]
    },
    {
     "data": {
      "text/plain": [
       "'I am a grad student and I would love to TA for Psychology 101!'"
      ]
     },
     "execution_count": 4,
     "metadata": {},
     "output_type": "execute_result"
    }
   ],
   "source": [
    "# challenge 3\n",
    "class Student:\n",
    "    studentCount = 1\n",
    "    def __init__(self, school='<assign school name>', firstName='<assign first name>', lastName='<assign last name>'):\n",
    "        self.ID = Student.studentCount \n",
    "        Student.studentCount += 1\n",
    "        self.updateInfo(school, firstName, lastName)\n",
    "    def updateInfo(self, school, firstName, lastName):\n",
    "        self.school = school\n",
    "        self.firstName= firstName\n",
    "        self.lastName = lastName\n",
    "    def __str__(self):\n",
    "        return 'School: %s\\nFirst Name:%s\\nLast Name:%s\\nID:%s\\n**************' % (self.school,self.firstName, self.lastName, self.ID)\n",
    "    def declareMajor(self, major):\n",
    "        self.major = major\n",
    "        return 'I am studying ' + self.major + ' at ' + self.school +'!'\n",
    "\n",
    "    # a subclass that inherits from Student class\n",
    "class GradStudent(Student):\n",
    "    def __init__(self, school, firstName, lastName):\n",
    "        super().__init__(school, firstName, lastName)\n",
    "    def TA(self, classname):\n",
    "        self.classname = classname\n",
    "        return 'I am a grad student and I would love to TA for ' + self.classname +'!'\n",
    "james = GradStudent('nyu','James','Bond')\n",
    "print(james)\n",
    "james.TA('Psychology 101')"
   ]
  },
  {
   "cell_type": "code",
   "execution_count": 7,
   "metadata": {},
   "outputs": [
    {
     "name": "stdout",
     "output_type": "stream",
     "text": [
      "School: nyu\n",
      "First Name:James\n",
      "Last Name:Bond\n",
      "ID:0\n",
      "**************\n",
      "School: Parsons\n",
      "First Name:Hiku\n",
      "Last Name:Yu\n",
      "ID:1\n",
      "**************\n",
      "School: NYU\n",
      "First Name:Shawn\n",
      "Last Name:Liu\n",
      "ID:2\n",
      "**************\n",
      "School: Fordham\n",
      "First Name:Abby\n",
      "Last Name:Shu\n",
      "ID:3\n",
      "**************\n",
      "School: NYU\n",
      "First Name:bill\n",
      "Last Name:ku\n",
      "ID:4\n",
      "**************\n",
      "Total students: 5, Total grad students: 2\n",
      "**************\n",
      "Undergrad:Grad = 3:2\n"
     ]
    }
   ],
   "source": [
    "# challenge 4\n",
    "class Student:\n",
    "    totalStudents = 0\n",
    "    def __init__(self, school='<assign school name>', firstName='<assign first name>', lastName='<assign last name>'):\n",
    "        self.ID = Student.totalStudents \n",
    "        Student.totalStudents += 1\n",
    "        self.updateInfo(school, firstName, lastName)\n",
    "    def updateInfo(self, school, firstName, lastName):\n",
    "        self.school = school\n",
    "        self.firstName= firstName\n",
    "        self.lastName = lastName\n",
    "    def __str__(self):\n",
    "        return 'School: %s\\nFirst Name:%s\\nLast Name:%s\\nID:%s\\n**************' % (self.school,self.firstName, self.lastName, self.ID)\n",
    "    def declareMajor(self, major):\n",
    "        self.major = major\n",
    "        return 'I am studying ' + self.major + ' at ' + self.school +'!'\n",
    "\n",
    "# a subclass that inherits from Student class\n",
    "class GradStudent(Student):\n",
    "    gradCount = 0\n",
    "    def __init__(self, school, firstName, lastName):\n",
    "        super().__init__(school, firstName, lastName)\n",
    "        self.ID = GradStudent.gradCount\n",
    "        GradStudent.gradCount += 1\n",
    "    def TA(self, classname):\n",
    "        self.classname = classname\n",
    "        return 'I am a grad student and I would love to TA for ' + self.classname +'!'\n",
    "    \n",
    "james = GradStudent('nyu','James','Bond')\n",
    "james.TA('Psychology 101')\n",
    "print(james)\n",
    "\n",
    "hiku = GradStudent('Parsons','Hiku','Yu')\n",
    "print(hiku)\n",
    "\n",
    "shawn = Student('NYU','Shawn','Liu')\n",
    "print(shawn)\n",
    "\n",
    "abby = Student('Fordham','Abby','Shu')\n",
    "print(abby)\n",
    "\n",
    "bill = Student('NYU','bill','ku')\n",
    "print(bill)\n",
    "\n",
    "print('Total students: ' + str(Student.totalStudents) + ', Total grad students: ' + str(GradStudent.gradCount))\n",
    "\n",
    "# a School class to keep track of the ratio undergraduate students to grad students. It will accesss variables from the other two classes without inheriting anythin\n",
    "class School:\n",
    "    def __init__(self):\n",
    "        self.undergrad = Student.totalStudents - GradStudent.gradCount\n",
    "        self.grad = GradStudent.gradCount\n",
    "        self.ratio = (self.undergrad/self.grad).as_integer_ratio()  \n",
    "    def __str__(self):\n",
    "        return \"**************\\nUndergrad:Grad = {}:{}\".format(self.ratio[0], self.ratio[1])\n",
    "ratio = School()\n",
    "print(ratio)"
   ]
  },
  {
   "cell_type": "code",
   "execution_count": null,
   "metadata": {},
   "outputs": [],
   "source": []
  }
 ],
 "metadata": {
  "kernelspec": {
   "display_name": "Python 3",
   "language": "python",
   "name": "python3"
  },
  "language_info": {
   "codemirror_mode": {
    "name": "ipython",
    "version": 3
   },
   "file_extension": ".py",
   "mimetype": "text/x-python",
   "name": "python",
   "nbconvert_exporter": "python",
   "pygments_lexer": "ipython3",
   "version": "3.8.3"
  }
 },
 "nbformat": 4,
 "nbformat_minor": 4
}
